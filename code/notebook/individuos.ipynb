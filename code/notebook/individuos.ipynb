{
 "cells": [
  {
   "cell_type": "markdown",
   "id": "691f078c",
   "metadata": {},
   "source": [
    "# Set up "
   ]
  },
  {
   "cell_type": "code",
   "execution_count": null,
   "id": "2c1e52ee",
   "metadata": {},
   "outputs": [],
   "source": [
    "import sys\n",
    "\n",
    "sys.path.append('..')\n",
    "from src.utils_individuos import create_columns_individuos"
   ]
  },
  {
   "cell_type": "markdown",
   "id": "0dfeb25f",
   "metadata": {},
   "source": [
    "# Ejercicio 3 Parte A\n",
    "en archivo individuos se debe traducir los valores CH04 numericos a  \n",
    "masculino y femenino segun corresponda. El resultado se debe almacenar \n",
    "en una nueva columna Llamada CH04_STR. \n",
    "\n",
    "Para esto se creó el diccionario **GENEROS_STR** que contiene para cada numero de genero, su str correspodiente.\n",
    "\n",
    "# Ejercicio 4 parte A\n",
    "Se debe traducir los valores NIVEL_ED numéricos a descripciones en formato texto.\n",
    "El resultado se debe almacenar en una nueva columna llamada NIVEL_ED_str. La\n",
    "transformación debe seguir las siguientes reglas:\n",
    "\n",
    "    1: \"Primario incompleto\"\n",
    "    2: \"Primario completo\"\n",
    "    3 \"Secundario incompleto\"\n",
    "    4: \"Secundario completo\"\n",
    "    5 a 6: \"Superior o universitario\"\n",
    "    7 o 9: “Sin informacion”\n",
    "\n",
    "Para esto se creó el diccionario **NIVELES_EDUCATIVOS** que contiene para cada numero de nivel educativo, su str correspodiente.\n",
    "\n",
    "# Ejercicio 5 parte A\n",
    "Se debe crear una nueva columna denominada CONDICION_LABORAL de formato \n",
    "texto. La transformación debe seguir las siguientes reglas: \n",
    "- Ocupado autónomo: si ESTADO es igual a 1 y CAT_OCUP es 1 o 2. \n",
    "- Ocupado dependiente: si ESTADO es igual a 1 y CAT_OCUP es 3 o 4 o 9. \n",
    "- Desocupado: si ESTADO es igual a 2. \n",
    "- Inactivo: si ESTADO es igual a 3. \n",
    "- Fuera de categoría/sin información: si ESTADO es igual a 4.\n",
    "\n",
    "Para esto se creó la función **columna_CONDICION_LABORAL** que evalua para una fila, la condición laboral correspondiente.\n",
    "\n",
    "# Ejercicio 6 parte A\n",
    "Se debe generar una nueva columna llamada UNIVERSITARIO numérica que indica si \n",
    "una persona mayor de edad ha completado como mínimo el nivel universitario:\n",
    "- 1: Sí \n",
    "- 0: No \n",
    "- 2: no aplica \n",
    "\n",
    "Para esto se creó la función **columna_UNIVERSITARIO** que evalua para una fila, si es universitario, no lo es, o no califica.\n",
    "\n",
    "# Se recorre el archivo y se crean todas las columnas\n",
    "Para esto se creó la función **create_columns_individuos** que abre el archivo con pandas y genera cada columna utilizando las funciones y diccionarios antes nombrados."
   ]
  },
  {
   "cell_type": "code",
   "execution_count": null,
   "id": "7e20765f",
   "metadata": {},
   "outputs": [],
   "source": [
    "try:\n",
    "    create_columns_individuos()\n",
    "except FileNotFoundError:\n",
    "    print(\"No existe el archivo de individuos.\")\n",
    "except PermissionError:\n",
    "    print(\"No se tienen permisos para leer/escribir el archivo de individuos.\")\n",
    "except KeyError:\n",
    "    print(\"Faltan columnas vitales en el archivo de individuos.\")\n",
    "except Exception as e:\n",
    "    print(f\"Error el crear las columnas de individuos: {e}.\")"
   ]
  }
 ],
 "metadata": {
  "kernelspec": {
   "display_name": "venv",
   "language": "python",
   "name": "python3"
  },
  "language_info": {
   "codemirror_mode": {
    "name": "ipython",
    "version": 3
   },
   "file_extension": ".py",
   "mimetype": "text/x-python",
   "name": "python",
   "nbconvert_exporter": "python",
   "pygments_lexer": "ipython3",
   "version": "3.9.12"
  }
 },
 "nbformat": 4,
 "nbformat_minor": 5
}
