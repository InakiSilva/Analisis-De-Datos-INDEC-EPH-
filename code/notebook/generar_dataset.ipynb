{
 "cells": [
  {
   "cell_type": "code",
   "execution_count": null,
   "id": "f9a91890",
   "metadata": {},
   "outputs": [],
   "source": [
    "import os\n",
    "import sys\n",
    "\n",
    "# Agrega la carpeta src al path\n",
    "sys.path.append(os.path.abspath(\"../src\"))\n"
   ]
  },
  {
   "cell_type": "markdown",
   "id": "3b583b95",
   "metadata": {},
   "source": [
    "# Ejercicio 2 - Sección A\n",
    "\n",
    "\n",
    "Se debe generar una sección de código dentro del notebook que busque en la\n",
    "mencionada carpeta cada uno de los archivos “individuos” y “hogares” y los una."
   ]
  },
  {
   "cell_type": "markdown",
   "id": "ec94a284",
   "metadata": {},
   "source": [
    "Aclaracion: Genero 2 datasets, 1 por hogares y 1 por individuales, ya que al no haber compatibilidad de columnas, es decir que, en los archivos las columnas varian, es probable\n",
    "que al unificar datos, se superpongan o repitan datos. También,\n",
    "se tomó la decision de no versionar los archivos csv generados para evitar conflictos, mantener el repositorio mas liviano y limpio, y principalmente porque pueden ser generados nuevamente al ejecutar el notebook: generar_dataset.ipynb"
   ]
  },
  {
   "cell_type": "code",
   "execution_count": null,
   "id": "f0f73d62",
   "metadata": {},
   "outputs": [
    {
     "name": "stdout",
     "output_type": "stream",
     "text": [
      "Se actualizó el dataset correctamente.\n"
     ]
    }
   ],
   "source": [
    "#Importo función a utilizar\n",
    "from recorrer_y_unir_files import unir_files\n",
    "\n",
    "#Utilizo la función de procesamiento y creación de archivos\n",
    "try:\n",
    "    if unir_files():\n",
    "        print(\"Se actualizó el dataset correctamente.\")\n",
    "    else:\n",
    "        print(\"No se puede generar el dataset sin archivos.\")\n",
    "except FileNotFoundError:\n",
    "    print(\"No existe la carpeta de hogares o la de individuos.\")\n",
    "except NotADirectoryError:\n",
    "    print(f\"La carpeta de hogares, individuos o data_out no es un directorio\")\n",
    "except PermissionError:\n",
    "    print(\"No se tienen permisos en la carpeta de hogares, individuos o data_out.\")\n",
    "except Exception as e:\n",
    "    print(f\"Error al actualizar el dataset: {e}.\")"
   ]
  }
 ],
 "metadata": {
  "kernelspec": {
   "display_name": "venv",
   "language": "python",
   "name": "python3"
  },
  "language_info": {
   "codemirror_mode": {
    "name": "ipython",
    "version": 3
   },
   "file_extension": ".py",
   "mimetype": "text/x-python",
   "name": "python",
   "nbconvert_exporter": "python",
   "pygments_lexer": "ipython3",
   "version": "3.9.12"
  }
 },
 "nbformat": 4,
 "nbformat_minor": 5
}
