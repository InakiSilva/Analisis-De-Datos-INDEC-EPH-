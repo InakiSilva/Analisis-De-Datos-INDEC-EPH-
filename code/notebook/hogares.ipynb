{
 "cells": [
  {
   "cell_type": "markdown",
   "id": "d4e546ee",
   "metadata": {},
   "source": [
    "# Setup del entorno"
   ]
  },
  {
   "cell_type": "code",
   "execution_count": null,
   "id": "9d36ac75",
   "metadata": {},
   "outputs": [],
   "source": [
    "import sys\n",
    "\n",
    "sys.path.append('..')\n",
    "from src.utils_hogares import create_columns_hogares"
   ]
  },
  {
   "cell_type": "markdown",
   "id": "6c42d93e",
   "metadata": {},
   "source": [
    "# Ejercicio 7 parte A\n",
    "Se debe generar una nueva columna llamada TIPO_HOGAR que indica el tipo de\n",
    "hogar:\n",
    "    \"Unipersonal\" (una persona).\n",
    "    \"Nuclear\" (2 a 4 personas).\n",
    "    \"Extendido\" (5 o más personas).\n",
    "\n",
    "Para esto se creó la función **columna_tipo_hogar** que evalua para los valores de la columna 'IX_TOT', la condición laboral correspondiente.\n",
    "\n",
    "# Ejercicio 8 parte A\n",
    "Se debe generar una nueva columna llamada \n",
    "MATERIAL_TECHUMBRE que indica el tipo de hogar basado en el campo iv4:\n",
    "\t-5 a 7 'Material precario'\n",
    "\t-1 a 4 'Material durable'\n",
    "\t-9 'No aplica'\n",
    "\n",
    "Para esto se creó la función **columna_material_techumbre** que evalua para los valores de la columna 'IV4', el material de techumbre correspondiente.  \n",
    "\n",
    "# Ejercicio 9 - Parte A\n",
    "\n",
    "Se debe generar una nueva columna denominada DENSIDAD_HOGAR. La generación debe seguir las siguientes reglas:\n",
    "\n",
    "(Se utiliza la información dispuesta en la columna V2(Cantidad de habitaciones) y la columna 'IX_TOT'(Cantidad total de miembros del hogar))\n",
    "* Bajo: menos de 1 persona por habitación.\n",
    "* Medio: entre 1 y 2 personas por habitación\n",
    "* Alto: más de 2 personas por habitación.\n",
    "\n",
    "Para esto se creó la función **columna_densidad_hogar** que evalua para una fila, la densidad del hogar correspondiente.\n",
    "\n",
    "# Ejercicio 10 parte A\n",
    "\n",
    "Se debe generar una nueva columna llamada CONDICION_DE_HABITABILIDAD, la\n",
    "misma califica a las viviendas y puede tener el valor de: insuficiente, regular,\n",
    "saludables y buena.\n",
    "\n",
    "Las reglas que definen la clasificación de las viviendas son las siguientes:\n",
    "\n",
    "### Insuficiente\n",
    "* Agua fuera del terreno\n",
    "* Agua con bomba manual u otra fuente desconocida\n",
    "* Baño fuera del terreno\n",
    "* Baño inexistente\n",
    "### Regular\n",
    "* Agua fuera de la vivienda pero dentro del terreno\n",
    "* Baño fuera de la vivienda pero dentro del terreno\n",
    "* Baño de tipo letrina\n",
    "### Saludables\n",
    "* Agua por cañería dentro de la vivienda con bomba a motor\n",
    "* Baño dentro de la vivienda con inodoro sin botón / cadena y con arrastre de agua (a balde)\n",
    "### Buena\n",
    "* Agua por cañería dentro de la vivienda y de red pública(agua corriente)\n",
    "* Baño dentro de la vivienda con inodoro con botón / mochila / cadena y arrastre de agua\n",
    "\n",
    "Para esto se creó la función **calificar_condicion** que evalua para una fila, la condicion de habitabilidad correspondiente.\n",
    "\n",
    "# Se recorre el archivo y se crean todas las columnas\n",
    "Para esto se creó la función **create_columns_hogares** que abre el archivo con pandas y genera cada columna utilizando las funciones antes nombradas."
   ]
  },
  {
   "cell_type": "code",
   "execution_count": null,
   "id": "fc9dd4a6",
   "metadata": {},
   "outputs": [],
   "source": [
    "try:\n",
    "    create_columns_hogares()\n",
    "except FileNotFoundError:\n",
    "    print(\"No existe el archivo de hogares.\")\n",
    "except PermissionError:\n",
    "    print(\"No se tienen permisos para leer/escribir el archivo de hogares.\")\n",
    "except KeyError:\n",
    "    print(\"Faltan columnas vitales en el archivo de hogares.\")\n",
    "except Exception as e:\n",
    "    print(f\"Error el crear las columnas de hogares: {e}.\")"
   ]
  }
 ],
 "metadata": {
  "kernelspec": {
   "display_name": "venv",
   "language": "python",
   "name": "python3"
  },
  "language_info": {
   "codemirror_mode": {
    "name": "ipython",
    "version": 3
   },
   "file_extension": ".py",
   "mimetype": "text/x-python",
   "name": "python",
   "nbconvert_exporter": "python",
   "pygments_lexer": "ipython3",
   "version": "3.9.12"
  }
 },
 "nbformat": 4,
 "nbformat_minor": 5
}
